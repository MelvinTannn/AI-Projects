{
  "nbformat": 4,
  "nbformat_minor": 0,
  "metadata": {
    "colab": {
      "name": "GSLC ANN - Melvin - 2301863263",
      "provenance": []
    },
    "kernelspec": {
      "name": "python3",
      "display_name": "Python 3"
    },
    "language_info": {
      "name": "python"
    }
  },
  "cells": [
    {
      "cell_type": "code",
      "metadata": {
        "id": "DSlTAk_k5wmB"
      },
      "source": [
        "#pip install --upgrade tensorflow"
      ],
      "execution_count": null,
      "outputs": []
    },
    {
      "cell_type": "code",
      "metadata": {
        "id": "lEsgmxDr5yq8"
      },
      "source": [
        "import numpy as np\n",
        "import matplotlib.pyplot as plt\n",
        "import tensorflow as tf"
      ],
      "execution_count": null,
      "outputs": []
    },
    {
      "cell_type": "code",
      "metadata": {
        "id": "oRZNrpSk54Bm"
      },
      "source": [
        "from keras.datasets import mnist\n",
        "objects=mnist\n",
        "(train_img,train_lab),(test_img,test_lab)=objects.load_data()"
      ],
      "execution_count": null,
      "outputs": []
    },
    {
      "cell_type": "code",
      "metadata": {
        "id": "XtbRQgtGKSys"
      },
      "source": [
        "from keras.models import Sequential\n",
        "from keras.layers import Flatten,Dense\n",
        "model=Sequential()\n",
        "input_layer= Flatten(input_shape=(28,28))\n",
        "model.add(input_layer)\n",
        "hidden_layer1=Dense(512,activation='relu')\n",
        "model.add(hidden_layer1)\n",
        "hidden_layer2=Dense(512,activation='relu')\n",
        "model.add(hidden_layer2)\n",
        "output_layer=Dense(10,activation='softmax')\n",
        "model.add(output_layer)"
      ],
      "execution_count": null,
      "outputs": []
    },
    {
      "cell_type": "code",
      "metadata": {
        "id": "E8Khxv4l-uY3"
      },
      "source": [
        "model.compile(optimizer='adam',\n",
        "              loss='sparse_categorical_crossentropy',\n",
        "              metrics=['accuracy'])"
      ],
      "execution_count": null,
      "outputs": []
    },
    {
      "cell_type": "code",
      "metadata": {
        "colab": {
          "base_uri": "https://localhost:8080/"
        },
        "id": "fLjS7dn1-4aH",
        "outputId": "aeb42bc5-7a6e-4bd1-8ca4-015dbacad423"
      },
      "source": [
        "model.fit(train_img,train_lab,epochs=100)"
      ],
      "execution_count": null,
      "outputs": [
        {
          "output_type": "stream",
          "text": [
            "Epoch 1/100\n",
            "1875/1875 [==============================] - 30s 8ms/step - loss: 4.6435 - accuracy: 0.8615\n",
            "Epoch 2/100\n",
            "1875/1875 [==============================] - 15s 8ms/step - loss: 0.1816 - accuracy: 0.9522\n",
            "Epoch 3/100\n",
            "1875/1875 [==============================] - 15s 8ms/step - loss: 0.1654 - accuracy: 0.9564\n",
            "Epoch 4/100\n",
            "1875/1875 [==============================] - 16s 9ms/step - loss: 0.1589 - accuracy: 0.9596\n",
            "Epoch 5/100\n",
            "1875/1875 [==============================] - 16s 8ms/step - loss: 0.1396 - accuracy: 0.9639\n",
            "Epoch 6/100\n",
            "1875/1875 [==============================] - 16s 9ms/step - loss: 0.1233 - accuracy: 0.9676\n",
            "Epoch 7/100\n",
            "1875/1875 [==============================] - 16s 9ms/step - loss: 0.1100 - accuracy: 0.9700\n",
            "Epoch 8/100\n",
            "1875/1875 [==============================] - 16s 9ms/step - loss: 0.0987 - accuracy: 0.9744\n",
            "Epoch 9/100\n",
            "1875/1875 [==============================] - 16s 9ms/step - loss: 0.0941 - accuracy: 0.9767\n",
            "Epoch 10/100\n",
            "1875/1875 [==============================] - 16s 8ms/step - loss: 0.0831 - accuracy: 0.9790\n",
            "Epoch 11/100\n",
            "1875/1875 [==============================] - 18s 9ms/step - loss: 0.0922 - accuracy: 0.9777\n",
            "Epoch 12/100\n",
            "1875/1875 [==============================] - 15s 8ms/step - loss: 0.0729 - accuracy: 0.9818\n",
            "Epoch 13/100\n",
            "1875/1875 [==============================] - 15s 8ms/step - loss: 0.0763 - accuracy: 0.9827\n",
            "Epoch 14/100\n",
            "1875/1875 [==============================] - 15s 8ms/step - loss: 0.0675 - accuracy: 0.9843\n",
            "Epoch 15/100\n",
            "1875/1875 [==============================] - 15s 8ms/step - loss: 0.0726 - accuracy: 0.9836\n",
            "Epoch 16/100\n",
            "1875/1875 [==============================] - 15s 8ms/step - loss: 0.0636 - accuracy: 0.9861\n",
            "Epoch 17/100\n",
            "1875/1875 [==============================] - 15s 8ms/step - loss: 0.0655 - accuracy: 0.9855\n",
            "Epoch 18/100\n",
            "1875/1875 [==============================] - 15s 8ms/step - loss: 0.0531 - accuracy: 0.9873\n",
            "Epoch 19/100\n",
            "1875/1875 [==============================] - 15s 8ms/step - loss: 0.0603 - accuracy: 0.9869\n",
            "Epoch 20/100\n",
            "1875/1875 [==============================] - 15s 8ms/step - loss: 0.0563 - accuracy: 0.9879\n",
            "Epoch 21/100\n",
            "1875/1875 [==============================] - 15s 8ms/step - loss: 0.0509 - accuracy: 0.9878\n",
            "Epoch 22/100\n",
            "1875/1875 [==============================] - 16s 8ms/step - loss: 0.0549 - accuracy: 0.9887\n",
            "Epoch 23/100\n",
            "1875/1875 [==============================] - 17s 9ms/step - loss: 0.0534 - accuracy: 0.9885\n",
            "Epoch 24/100\n",
            "1875/1875 [==============================] - 17s 9ms/step - loss: 0.0507 - accuracy: 0.9882\n",
            "Epoch 25/100\n",
            "1875/1875 [==============================] - 18s 10ms/step - loss: 0.0564 - accuracy: 0.9872\n",
            "Epoch 26/100\n",
            "1875/1875 [==============================] - 17s 9ms/step - loss: 0.0587 - accuracy: 0.9877\n",
            "Epoch 27/100\n",
            "1875/1875 [==============================] - 17s 9ms/step - loss: 0.0569 - accuracy: 0.9872\n",
            "Epoch 28/100\n",
            "1875/1875 [==============================] - 17s 9ms/step - loss: 0.0524 - accuracy: 0.9890\n",
            "Epoch 29/100\n",
            "1875/1875 [==============================] - 16s 9ms/step - loss: 0.0477 - accuracy: 0.9906\n",
            "Epoch 30/100\n",
            "1875/1875 [==============================] - 16s 8ms/step - loss: 0.0628 - accuracy: 0.9884\n",
            "Epoch 31/100\n",
            "1875/1875 [==============================] - 16s 8ms/step - loss: 0.0546 - accuracy: 0.9886\n",
            "Epoch 32/100\n",
            "1875/1875 [==============================] - 16s 8ms/step - loss: 0.0501 - accuracy: 0.9898\n",
            "Epoch 33/100\n",
            "1875/1875 [==============================] - 17s 9ms/step - loss: 0.0581 - accuracy: 0.9878\n",
            "Epoch 34/100\n",
            "1875/1875 [==============================] - 16s 9ms/step - loss: 0.0484 - accuracy: 0.9893\n",
            "Epoch 35/100\n",
            "1875/1875 [==============================] - 16s 8ms/step - loss: 0.0531 - accuracy: 0.9892\n",
            "Epoch 36/100\n",
            "1875/1875 [==============================] - 18s 9ms/step - loss: 0.0411 - accuracy: 0.9908\n",
            "Epoch 37/100\n",
            "1875/1875 [==============================] - 16s 9ms/step - loss: 0.0692 - accuracy: 0.9879\n",
            "Epoch 38/100\n",
            "1875/1875 [==============================] - 17s 9ms/step - loss: 0.0599 - accuracy: 0.9887\n",
            "Epoch 39/100\n",
            "1875/1875 [==============================] - 17s 9ms/step - loss: 0.0512 - accuracy: 0.9892\n",
            "Epoch 40/100\n",
            "1875/1875 [==============================] - 16s 9ms/step - loss: 0.0573 - accuracy: 0.9903\n",
            "Epoch 41/100\n",
            "1875/1875 [==============================] - 17s 9ms/step - loss: 0.0611 - accuracy: 0.9903\n",
            "Epoch 42/100\n",
            "1875/1875 [==============================] - 17s 9ms/step - loss: 0.0680 - accuracy: 0.9891\n",
            "Epoch 43/100\n",
            "1875/1875 [==============================] - 16s 8ms/step - loss: 0.0562 - accuracy: 0.9891\n",
            "Epoch 44/100\n",
            "1875/1875 [==============================] - 16s 9ms/step - loss: 0.0452 - accuracy: 0.9912\n",
            "Epoch 45/100\n",
            "1875/1875 [==============================] - 16s 9ms/step - loss: 0.0629 - accuracy: 0.9886\n",
            "Epoch 46/100\n",
            "1875/1875 [==============================] - 16s 9ms/step - loss: 0.0551 - accuracy: 0.9898\n",
            "Epoch 47/100\n",
            "1875/1875 [==============================] - 17s 9ms/step - loss: 0.0527 - accuracy: 0.9900\n",
            "Epoch 48/100\n",
            "1875/1875 [==============================] - 16s 9ms/step - loss: 0.0496 - accuracy: 0.9912\n",
            "Epoch 49/100\n",
            "1875/1875 [==============================] - 17s 9ms/step - loss: 0.0486 - accuracy: 0.9907\n",
            "Epoch 50/100\n",
            "1875/1875 [==============================] - 17s 9ms/step - loss: 0.0504 - accuracy: 0.9893\n",
            "Epoch 51/100\n",
            "1875/1875 [==============================] - 18s 9ms/step - loss: 0.0584 - accuracy: 0.9871\n",
            "Epoch 52/100\n",
            "1875/1875 [==============================] - 17s 9ms/step - loss: 0.0588 - accuracy: 0.9889\n",
            "Epoch 53/100\n",
            "1875/1875 [==============================] - 17s 9ms/step - loss: 0.0534 - accuracy: 0.9891\n",
            "Epoch 54/100\n",
            "1875/1875 [==============================] - 17s 9ms/step - loss: 0.0632 - accuracy: 0.9895\n",
            "Epoch 55/100\n",
            "1875/1875 [==============================] - 17s 9ms/step - loss: 0.0534 - accuracy: 0.9903\n",
            "Epoch 56/100\n",
            "1875/1875 [==============================] - 17s 9ms/step - loss: 0.0533 - accuracy: 0.9900\n",
            "Epoch 57/100\n",
            "1875/1875 [==============================] - 17s 9ms/step - loss: 0.0551 - accuracy: 0.9891\n",
            "Epoch 58/100\n",
            "1875/1875 [==============================] - 16s 8ms/step - loss: 0.0546 - accuracy: 0.9897\n",
            "Epoch 59/100\n",
            "1875/1875 [==============================] - 17s 9ms/step - loss: 0.0696 - accuracy: 0.9861\n",
            "Epoch 60/100\n",
            "1875/1875 [==============================] - 18s 10ms/step - loss: 0.0641 - accuracy: 0.9884\n",
            "Epoch 61/100\n",
            "1875/1875 [==============================] - 16s 9ms/step - loss: 0.0641 - accuracy: 0.9875\n",
            "Epoch 62/100\n",
            "1875/1875 [==============================] - 16s 8ms/step - loss: 0.0748 - accuracy: 0.9878\n",
            "Epoch 63/100\n",
            "1875/1875 [==============================] - 16s 8ms/step - loss: 0.0440 - accuracy: 0.9902\n",
            "Epoch 64/100\n",
            "1875/1875 [==============================] - 15s 8ms/step - loss: 0.0608 - accuracy: 0.9880\n",
            "Epoch 65/100\n",
            "1875/1875 [==============================] - 16s 9ms/step - loss: 0.0644 - accuracy: 0.9876\n",
            "Epoch 66/100\n",
            "1875/1875 [==============================] - 16s 8ms/step - loss: 0.0692 - accuracy: 0.9860\n",
            "Epoch 67/100\n",
            "1875/1875 [==============================] - 15s 8ms/step - loss: 0.0640 - accuracy: 0.9871\n",
            "Epoch 68/100\n",
            "1875/1875 [==============================] - 15s 8ms/step - loss: 0.0534 - accuracy: 0.9867\n",
            "Epoch 69/100\n",
            "1875/1875 [==============================] - 15s 8ms/step - loss: 0.0791 - accuracy: 0.9881\n",
            "Epoch 70/100\n",
            "1875/1875 [==============================] - 15s 8ms/step - loss: 0.0517 - accuracy: 0.9900\n",
            "Epoch 71/100\n",
            "1875/1875 [==============================] - 15s 8ms/step - loss: 0.0566 - accuracy: 0.9884\n",
            "Epoch 72/100\n",
            "1875/1875 [==============================] - 15s 8ms/step - loss: 0.0683 - accuracy: 0.9890\n",
            "Epoch 73/100\n",
            "1875/1875 [==============================] - 15s 8ms/step - loss: 0.0707 - accuracy: 0.9866\n",
            "Epoch 74/100\n",
            "1875/1875 [==============================] - 15s 8ms/step - loss: 0.0528 - accuracy: 0.9883\n",
            "Epoch 75/100\n",
            "1875/1875 [==============================] - 15s 8ms/step - loss: 0.0598 - accuracy: 0.9884\n",
            "Epoch 76/100\n",
            "1875/1875 [==============================] - 15s 8ms/step - loss: 0.0588 - accuracy: 0.9894\n",
            "Epoch 77/100\n",
            "1875/1875 [==============================] - 15s 8ms/step - loss: 0.0700 - accuracy: 0.9894\n",
            "Epoch 78/100\n",
            "1875/1875 [==============================] - 15s 8ms/step - loss: 0.0675 - accuracy: 0.9847\n",
            "Epoch 79/100\n",
            "1875/1875 [==============================] - 15s 8ms/step - loss: 0.0785 - accuracy: 0.9865\n",
            "Epoch 80/100\n",
            "1875/1875 [==============================] - 16s 8ms/step - loss: 0.0594 - accuracy: 0.9876\n",
            "Epoch 81/100\n",
            "1875/1875 [==============================] - 17s 9ms/step - loss: 0.0610 - accuracy: 0.9893\n",
            "Epoch 82/100\n",
            "1875/1875 [==============================] - 17s 9ms/step - loss: 0.0619 - accuracy: 0.9899\n",
            "Epoch 83/100\n",
            "1875/1875 [==============================] - 17s 9ms/step - loss: 0.0573 - accuracy: 0.9878\n",
            "Epoch 84/100\n",
            "1875/1875 [==============================] - 18s 9ms/step - loss: 0.0807 - accuracy: 0.9867\n",
            "Epoch 85/100\n",
            "1875/1875 [==============================] - 17s 9ms/step - loss: 0.0755 - accuracy: 0.9878\n",
            "Epoch 86/100\n",
            "1875/1875 [==============================] - 17s 9ms/step - loss: 0.0554 - accuracy: 0.9871\n",
            "Epoch 87/100\n",
            "1875/1875 [==============================] - 16s 8ms/step - loss: 0.0831 - accuracy: 0.9863\n",
            "Epoch 88/100\n",
            "1875/1875 [==============================] - 17s 9ms/step - loss: 0.1222 - accuracy: 0.9853\n",
            "Epoch 89/100\n",
            "1875/1875 [==============================] - 16s 8ms/step - loss: 0.0677 - accuracy: 0.9895\n",
            "Epoch 90/100\n",
            "1875/1875 [==============================] - 16s 9ms/step - loss: 0.0537 - accuracy: 0.9871\n",
            "Epoch 91/100\n",
            "1875/1875 [==============================] - 16s 9ms/step - loss: 0.0472 - accuracy: 0.9898\n",
            "Epoch 92/100\n",
            "1875/1875 [==============================] - 15s 8ms/step - loss: 0.0590 - accuracy: 0.9860\n",
            "Epoch 93/100\n",
            "1875/1875 [==============================] - 15s 8ms/step - loss: 0.0864 - accuracy: 0.9837\n",
            "Epoch 94/100\n",
            "1875/1875 [==============================] - 15s 8ms/step - loss: 0.0641 - accuracy: 0.9876\n",
            "Epoch 95/100\n",
            "1875/1875 [==============================] - 15s 8ms/step - loss: 0.0781 - accuracy: 0.9870\n",
            "Epoch 96/100\n",
            "1875/1875 [==============================] - 15s 8ms/step - loss: 0.0844 - accuracy: 0.9869\n",
            "Epoch 97/100\n",
            "1875/1875 [==============================] - 15s 8ms/step - loss: 0.0572 - accuracy: 0.9877\n",
            "Epoch 98/100\n",
            "1875/1875 [==============================] - 15s 8ms/step - loss: 0.0725 - accuracy: 0.9866\n",
            "Epoch 99/100\n",
            "1875/1875 [==============================] - 15s 8ms/step - loss: 0.0722 - accuracy: 0.9859\n",
            "Epoch 100/100\n",
            "1875/1875 [==============================] - 15s 8ms/step - loss: 0.0937 - accuracy: 0.9828\n"
          ],
          "name": "stdout"
        },
        {
          "output_type": "execute_result",
          "data": {
            "text/plain": [
              "<keras.callbacks.History at 0x7f5e5b2e7b90>"
            ]
          },
          "metadata": {
            "tags": []
          },
          "execution_count": 6
        }
      ]
    },
    {
      "cell_type": "code",
      "metadata": {
        "colab": {
          "base_uri": "https://localhost:8080/"
        },
        "id": "PcKpN6jpCRkS",
        "outputId": "730a5885-90cb-4099-958a-35cdf7e40ce2"
      },
      "source": [
        "loss_and_acc=model.evaluate(test_img,test_lab,verbose=2)\n",
        "print(\"Test Loss\",loss_and_acc[0])\n",
        "print(\"Test Accuracy\",loss_and_acc[1])"
      ],
      "execution_count": null,
      "outputs": [
        {
          "output_type": "stream",
          "text": [
            "313/313 - 1s - loss: 1.0581 - accuracy: 0.9638\n",
            "Test Loss 1.0581321716308594\n",
            "Test Accuracy 0.9638000130653381\n"
          ],
          "name": "stdout"
        }
      ]
    }
  ]
}