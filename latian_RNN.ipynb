{
  "nbformat": 4,
  "nbformat_minor": 0,
  "metadata": {
    "colab": {
      "name": "latian_RNN.ipynb",
      "provenance": [],
      "collapsed_sections": []
    },
    "kernelspec": {
      "name": "python3",
      "display_name": "Python 3"
    },
    "language_info": {
      "name": "python"
    },
    "accelerator": "GPU"
  },
  "cells": [
    {
      "cell_type": "code",
      "metadata": {
        "colab": {
          "base_uri": "https://localhost:8080/"
        },
        "id": "vlitwditPCHM",
        "outputId": "1ebe4bc0-7255-4b68-b267-6c0642de5f92"
      },
      "source": [
        "!pip install --upgrade tensorflow==1.15"
      ],
      "execution_count": 1,
      "outputs": [
        {
          "output_type": "stream",
          "text": [
            "Requirement already up-to-date: tensorflow==1.15 in /usr/local/lib/python3.7/dist-packages (1.15.0)\n",
            "Requirement already satisfied, skipping upgrade: numpy<2.0,>=1.16.0 in /usr/local/lib/python3.7/dist-packages (from tensorflow==1.15) (1.19.5)\n",
            "Requirement already satisfied, skipping upgrade: keras-applications>=1.0.8 in /usr/local/lib/python3.7/dist-packages (from tensorflow==1.15) (1.0.8)\n",
            "Requirement already satisfied, skipping upgrade: google-pasta>=0.1.6 in /usr/local/lib/python3.7/dist-packages (from tensorflow==1.15) (0.2.0)\n",
            "Requirement already satisfied, skipping upgrade: wrapt>=1.11.1 in /usr/local/lib/python3.7/dist-packages (from tensorflow==1.15) (1.12.1)\n",
            "Requirement already satisfied, skipping upgrade: absl-py>=0.7.0 in /usr/local/lib/python3.7/dist-packages (from tensorflow==1.15) (0.12.0)\n",
            "Requirement already satisfied, skipping upgrade: astor>=0.6.0 in /usr/local/lib/python3.7/dist-packages (from tensorflow==1.15) (0.8.1)\n",
            "Requirement already satisfied, skipping upgrade: wheel>=0.26 in /usr/local/lib/python3.7/dist-packages (from tensorflow==1.15) (0.36.2)\n",
            "Requirement already satisfied, skipping upgrade: tensorboard<1.16.0,>=1.15.0 in /usr/local/lib/python3.7/dist-packages (from tensorflow==1.15) (1.15.0)\n",
            "Requirement already satisfied, skipping upgrade: keras-preprocessing>=1.0.5 in /usr/local/lib/python3.7/dist-packages (from tensorflow==1.15) (1.1.2)\n",
            "Requirement already satisfied, skipping upgrade: protobuf>=3.6.1 in /usr/local/lib/python3.7/dist-packages (from tensorflow==1.15) (3.12.4)\n",
            "Requirement already satisfied, skipping upgrade: opt-einsum>=2.3.2 in /usr/local/lib/python3.7/dist-packages (from tensorflow==1.15) (3.3.0)\n",
            "Requirement already satisfied, skipping upgrade: termcolor>=1.1.0 in /usr/local/lib/python3.7/dist-packages (from tensorflow==1.15) (1.1.0)\n",
            "Requirement already satisfied, skipping upgrade: six>=1.10.0 in /usr/local/lib/python3.7/dist-packages (from tensorflow==1.15) (1.15.0)\n",
            "Requirement already satisfied, skipping upgrade: tensorflow-estimator==1.15.1 in /usr/local/lib/python3.7/dist-packages (from tensorflow==1.15) (1.15.1)\n",
            "Requirement already satisfied, skipping upgrade: grpcio>=1.8.6 in /usr/local/lib/python3.7/dist-packages (from tensorflow==1.15) (1.32.0)\n",
            "Requirement already satisfied, skipping upgrade: gast==0.2.2 in /usr/local/lib/python3.7/dist-packages (from tensorflow==1.15) (0.2.2)\n",
            "Requirement already satisfied, skipping upgrade: h5py in /usr/local/lib/python3.7/dist-packages (from keras-applications>=1.0.8->tensorflow==1.15) (2.10.0)\n",
            "Requirement already satisfied, skipping upgrade: markdown>=2.6.8 in /usr/local/lib/python3.7/dist-packages (from tensorboard<1.16.0,>=1.15.0->tensorflow==1.15) (3.3.4)\n",
            "Requirement already satisfied, skipping upgrade: werkzeug>=0.11.15 in /usr/local/lib/python3.7/dist-packages (from tensorboard<1.16.0,>=1.15.0->tensorflow==1.15) (1.0.1)\n",
            "Requirement already satisfied, skipping upgrade: setuptools>=41.0.0 in /usr/local/lib/python3.7/dist-packages (from tensorboard<1.16.0,>=1.15.0->tensorflow==1.15) (54.2.0)\n",
            "Requirement already satisfied, skipping upgrade: importlib-metadata; python_version < \"3.8\" in /usr/local/lib/python3.7/dist-packages (from markdown>=2.6.8->tensorboard<1.16.0,>=1.15.0->tensorflow==1.15) (3.8.1)\n",
            "Requirement already satisfied, skipping upgrade: zipp>=0.5 in /usr/local/lib/python3.7/dist-packages (from importlib-metadata; python_version < \"3.8\"->markdown>=2.6.8->tensorboard<1.16.0,>=1.15.0->tensorflow==1.15) (3.4.1)\n",
            "Requirement already satisfied, skipping upgrade: typing-extensions>=3.6.4; python_version < \"3.8\" in /usr/local/lib/python3.7/dist-packages (from importlib-metadata; python_version < \"3.8\"->markdown>=2.6.8->tensorboard<1.16.0,>=1.15.0->tensorflow==1.15) (3.7.4.3)\n"
          ],
          "name": "stdout"
        }
      ]
    },
    {
      "cell_type": "code",
      "metadata": {
        "id": "HPaxpRecOKv3"
      },
      "source": [
        "import numpy as np\n",
        "import tensorflow as tf\n",
        "from tensorflow.keras.layers import SimpleRNNCell, RNN, Dense\n",
        "from sklearn.preprocessing import StandardScaler\n",
        "from sklearn.model_selection import train_test_split\n",
        "import pandas_datareader as pdr"
      ],
      "execution_count": 2,
      "outputs": []
    },
    {
      "cell_type": "markdown",
      "metadata": {
        "id": "VhiSM2wpRzor"
      },
      "source": [
        "Preprocessing"
      ]
    },
    {
      "cell_type": "code",
      "metadata": {
        "id": "KfB6GgWnQXYj"
      },
      "source": [
        "df = pdr.get_data_yahoo('BBCA', start='2019-01-01', end='2021-4-12')"
      ],
      "execution_count": 3,
      "outputs": []
    },
    {
      "cell_type": "code",
      "metadata": {
        "id": "gZrnVlK0RbSa"
      },
      "source": [
        "prices = df['Close'].values"
      ],
      "execution_count": 4,
      "outputs": []
    },
    {
      "cell_type": "code",
      "metadata": {
        "id": "AzArbaUwR1ql"
      },
      "source": [
        "train_prices, test_prices = train_test_split(prices, test_size=0.2, shuffle=False)"
      ],
      "execution_count": 5,
      "outputs": []
    },
    {
      "cell_type": "code",
      "metadata": {
        "id": "h-9PyAqKS-ln"
      },
      "source": [
        "train_prices = train_prices.reshape(-1, 1)\n",
        "test_prices = test_prices.reshape(-1, 1)"
      ],
      "execution_count": 6,
      "outputs": []
    },
    {
      "cell_type": "code",
      "metadata": {
        "id": "BVqY6PDoTUHe"
      },
      "source": [
        "scaler = StandardScaler().fit(train_prices)\n",
        "train_prices = scaler.transform(train_prices)\n",
        "test_prices = scaler.transform(test_prices)"
      ],
      "execution_count": 7,
      "outputs": []
    },
    {
      "cell_type": "code",
      "metadata": {
        "id": "XXnkATX2TB2q"
      },
      "source": [
        "timestep = 64"
      ],
      "execution_count": 8,
      "outputs": []
    },
    {
      "cell_type": "code",
      "metadata": {
        "colab": {
          "base_uri": "https://localhost:8080/"
        },
        "id": "Peovp7cPXCIK",
        "outputId": "f07cd611-1615-4ae3-f20f-a6e749ca9f32"
      },
      "source": [
        "train_prices.shape"
      ],
      "execution_count": 9,
      "outputs": [
        {
          "output_type": "execute_result",
          "data": {
            "text/plain": [
              "(457, 1)"
            ]
          },
          "metadata": {
            "tags": []
          },
          "execution_count": 9
        }
      ]
    },
    {
      "cell_type": "code",
      "metadata": {
        "id": "mAotlFuSUUZH"
      },
      "source": [
        "def construct_dataset(in_prices):\n",
        "  features = []\n",
        "  targets = []\n",
        "\n",
        "  for i in range(timestep, in_prices.shape[0]):\n",
        "    features.append(\n",
        "        in_prices[i - timestep : i]\n",
        "    )\n",
        "    targets.append(\n",
        "        in_prices[i]\n",
        "    )\n",
        "  features = np.array(features, 'float32')\n",
        "  targets = np.array(targets, 'float32')\n",
        "\n",
        "  return features, targets"
      ],
      "execution_count": 10,
      "outputs": []
    },
    {
      "cell_type": "code",
      "metadata": {
        "id": "5HODzLu1eE20"
      },
      "source": [
        "x_train, y_train = construct_dataset(train_prices)\n",
        "x_test, y_test = construct_dataset(test_prices)"
      ],
      "execution_count": 11,
      "outputs": []
    },
    {
      "cell_type": "markdown",
      "metadata": {
        "id": "kcWpo74JXqhn"
      },
      "source": [
        "Model"
      ]
    },
    {
      "cell_type": "code",
      "metadata": {
        "id": "dk9nzJBVWBPY"
      },
      "source": [
        "input_placeholder = tf.placeholder(tf.float32, [None, timestep, 1])\n",
        "target_placeholder = tf.placeholder(tf.float32, [None, 1])"
      ],
      "execution_count": 12,
      "outputs": []
    },
    {
      "cell_type": "code",
      "metadata": {
        "id": "CNBwnPgZYE6Y"
      },
      "source": [
        "cell = SimpleRNNCell(64, activation='relu')\n",
        "\n",
        "rnn_layer = RNN(cell, dtype=tf.float32)\n",
        "output_layer = Dense(1)"
      ],
      "execution_count": 13,
      "outputs": []
    },
    {
      "cell_type": "code",
      "metadata": {
        "colab": {
          "base_uri": "https://localhost:8080/"
        },
        "id": "hC26j6c0YtuW",
        "outputId": "821adfa7-d48f-440a-daf4-daf49c6533b2"
      },
      "source": [
        "out_tensor = rnn_layer(input_placeholder)\n",
        "out_tensor = output_layer(out_tensor)"
      ],
      "execution_count": 14,
      "outputs": [
        {
          "output_type": "stream",
          "text": [
            "WARNING:tensorflow:From /usr/local/lib/python3.7/dist-packages/tensorflow_core/python/ops/resource_variable_ops.py:1630: calling BaseResourceVariable.__init__ (from tensorflow.python.ops.resource_variable_ops) with constraint is deprecated and will be removed in a future version.\n",
            "Instructions for updating:\n",
            "If using Keras pass *_constraint arguments to layers.\n"
          ],
          "name": "stdout"
        }
      ]
    },
    {
      "cell_type": "markdown",
      "metadata": {
        "id": "EVz4XqbIZUsB"
      },
      "source": [
        "Train"
      ]
    },
    {
      "cell_type": "code",
      "metadata": {
        "id": "4VKUsc8dZV-k"
      },
      "source": [
        "# mse\n",
        "loss_tensor = tf.reduce_mean(0.5 * (out_tensor - target_placeholder)**2)\n",
        "\n",
        "# optimal rmse (root mean squared error)\n",
        "rmse_tensor = tf.reduce_mean(tf.sqrt(0.5 * (out_tensor - target_placeholder)**2))"
      ],
      "execution_count": 15,
      "outputs": []
    },
    {
      "cell_type": "code",
      "metadata": {
        "colab": {
          "base_uri": "https://localhost:8080/"
        },
        "id": "8o78FNkIaNmn",
        "outputId": "ac319d36-532c-484f-da61-b4a6381b3d94"
      },
      "source": [
        "optimizer = tf.train.AdamOptimizer().minimize(loss_tensor)"
      ],
      "execution_count": 16,
      "outputs": [
        {
          "output_type": "stream",
          "text": [
            "WARNING:tensorflow:From /usr/local/lib/python3.7/dist-packages/tensorflow_core/python/ops/math_grad.py:1375: where (from tensorflow.python.ops.array_ops) is deprecated and will be removed in a future version.\n",
            "Instructions for updating:\n",
            "Use tf.where in 2.0, which has the same broadcast rule as np.where\n"
          ],
          "name": "stdout"
        }
      ]
    },
    {
      "cell_type": "code",
      "metadata": {
        "id": "2XS9b3CZaY66"
      },
      "source": [
        "saver = tf.train.Saver()"
      ],
      "execution_count": 17,
      "outputs": []
    },
    {
      "cell_type": "code",
      "metadata": {
        "id": "-kAkFMJ9ankT"
      },
      "source": [
        "num_epoch = 5000"
      ],
      "execution_count": 18,
      "outputs": []
    },
    {
      "cell_type": "code",
      "metadata": {
        "colab": {
          "base_uri": "https://localhost:8080/"
        },
        "id": "bXYUlbCaaplq",
        "outputId": "7e0e54d5-57df-43dd-d579-d3f31fd8305f"
      },
      "source": [
        "with tf.Session() as sess:\n",
        "  sess.run(tf.global_variables_initializer())\n",
        "\n",
        "  train_dict = {\n",
        "      input_placeholder:x_train,\n",
        "      target_placeholder:y_train\n",
        "  }\n",
        "  test_dict = {\n",
        "      input_placeholder:x_test,\n",
        "      target_placeholder:y_test\n",
        "  }\n",
        "\n",
        "  best_loss = float('inf')\n",
        "  for epoch in range(num_epoch):\n",
        "    sess.run(optimizer, feed_dict=train_dict)\n",
        "\n",
        "    loss = sess.run(loss_tensor, feed_dict=train_dict)\n",
        "    val_loss = sess.run(loss_tensor, feed_dict=test_dict)\n",
        "\n",
        "    rmse = sess.run(rmse_tensor, feed_dict=train_dict)\n",
        "    val_rmse = sess.run(rmse_tensor, feed_dict=test_dict)\n",
        "\n",
        "    if val_loss < best_loss:\n",
        "      best_loss = val_loss\n",
        "      saver.save(sess, './best_model.ckpt')\n",
        "      \n",
        "    if epoch % 100 == 0:\n",
        "      print(f'Epoch {epoch+1} - loss {loss:.4f} - rmse {rmse:.4f} - val_loss {val_loss:.4f} - val_rmse {val_rmse:.4f}')"
      ],
      "execution_count": 19,
      "outputs": [
        {
          "output_type": "stream",
          "text": [
            "Epoch 1 - loss 0.4095 - rmse 0.5183 - val_loss 5.8178 - val_rmse 2.3678\n",
            "Epoch 101 - loss 0.0134 - rmse 0.0737 - val_loss 0.0265 - val_rmse 0.1435\n",
            "Epoch 201 - loss 0.0068 - rmse 0.0572 - val_loss 0.0304 - val_rmse 0.1566\n",
            "Epoch 301 - loss 0.0046 - rmse 0.0508 - val_loss 0.0601 - val_rmse 0.1907\n",
            "Epoch 401 - loss 0.0036 - rmse 0.0450 - val_loss 0.0520 - val_rmse 0.1617\n",
            "Epoch 501 - loss 0.0027 - rmse 0.0405 - val_loss 0.0621 - val_rmse 0.1821\n",
            "Epoch 601 - loss 0.0019 - rmse 0.0332 - val_loss 0.0473 - val_rmse 0.1608\n",
            "Epoch 701 - loss 0.0014 - rmse 0.0271 - val_loss 0.0580 - val_rmse 0.1815\n",
            "Epoch 801 - loss 0.0012 - rmse 0.0251 - val_loss 0.0595 - val_rmse 0.1829\n",
            "Epoch 901 - loss 0.0010 - rmse 0.0224 - val_loss 0.0455 - val_rmse 0.1561\n",
            "Epoch 1001 - loss 0.0013 - rmse 0.0276 - val_loss 0.0510 - val_rmse 0.1706\n",
            "Epoch 1101 - loss 0.0008 - rmse 0.0197 - val_loss 0.0608 - val_rmse 0.1895\n",
            "Epoch 1201 - loss 0.0011 - rmse 0.0240 - val_loss 0.0449 - val_rmse 0.1573\n",
            "Epoch 1301 - loss 0.0009 - rmse 0.0220 - val_loss 0.0574 - val_rmse 0.1879\n",
            "Epoch 1401 - loss 0.0007 - rmse 0.0198 - val_loss 0.0642 - val_rmse 0.2034\n",
            "Epoch 1501 - loss 0.0004 - rmse 0.0137 - val_loss 0.0550 - val_rmse 0.1792\n",
            "Epoch 1601 - loss 0.0003 - rmse 0.0120 - val_loss 0.0510 - val_rmse 0.1700\n",
            "Epoch 1701 - loss 0.0004 - rmse 0.0146 - val_loss 0.0493 - val_rmse 0.1660\n",
            "Epoch 1801 - loss 0.0003 - rmse 0.0103 - val_loss 0.0463 - val_rmse 0.1631\n",
            "Epoch 1901 - loss 0.0002 - rmse 0.0107 - val_loss 0.0467 - val_rmse 0.1642\n",
            "Epoch 2001 - loss 0.0002 - rmse 0.0099 - val_loss 0.0481 - val_rmse 0.1644\n",
            "Epoch 2101 - loss 0.0002 - rmse 0.0091 - val_loss 0.0480 - val_rmse 0.1687\n",
            "Epoch 2201 - loss 0.0001 - rmse 0.0070 - val_loss 0.0468 - val_rmse 0.1663\n",
            "Epoch 2301 - loss 0.0001 - rmse 0.0061 - val_loss 0.0452 - val_rmse 0.1631\n",
            "Epoch 2401 - loss 0.0001 - rmse 0.0062 - val_loss 0.0436 - val_rmse 0.1593\n",
            "Epoch 2501 - loss 0.0001 - rmse 0.0049 - val_loss 0.0447 - val_rmse 0.1628\n",
            "Epoch 2601 - loss 0.0002 - rmse 0.0099 - val_loss 0.0458 - val_rmse 0.1659\n",
            "Epoch 2701 - loss 0.0005 - rmse 0.0160 - val_loss 0.0462 - val_rmse 0.1621\n",
            "Epoch 2801 - loss 0.0000 - rmse 0.0037 - val_loss 0.0431 - val_rmse 0.1563\n",
            "Epoch 2901 - loss 0.0001 - rmse 0.0065 - val_loss 0.0444 - val_rmse 0.1613\n",
            "Epoch 3001 - loss 0.0000 - rmse 0.0042 - val_loss 0.0416 - val_rmse 0.1549\n",
            "Epoch 3101 - loss 0.0001 - rmse 0.0076 - val_loss 0.0412 - val_rmse 0.1517\n",
            "Epoch 3201 - loss 0.0000 - rmse 0.0030 - val_loss 0.0404 - val_rmse 0.1492\n",
            "Epoch 3301 - loss 0.0000 - rmse 0.0037 - val_loss 0.0408 - val_rmse 0.1516\n",
            "Epoch 3401 - loss 0.0003 - rmse 0.0135 - val_loss 0.0455 - val_rmse 0.1624\n",
            "Epoch 3501 - loss 0.0000 - rmse 0.0042 - val_loss 0.0432 - val_rmse 0.1546\n",
            "Epoch 3601 - loss 0.0001 - rmse 0.0053 - val_loss 0.0438 - val_rmse 0.1568\n",
            "Epoch 3701 - loss 0.0000 - rmse 0.0030 - val_loss 0.0431 - val_rmse 0.1547\n",
            "Epoch 3801 - loss 0.0001 - rmse 0.0081 - val_loss 0.0435 - val_rmse 0.1539\n",
            "Epoch 3901 - loss 0.0000 - rmse 0.0024 - val_loss 0.0420 - val_rmse 0.1527\n",
            "Epoch 4001 - loss 0.0000 - rmse 0.0034 - val_loss 0.0428 - val_rmse 0.1544\n",
            "Epoch 4101 - loss 0.0000 - rmse 0.0021 - val_loss 0.0417 - val_rmse 0.1527\n",
            "Epoch 4201 - loss 0.0000 - rmse 0.0051 - val_loss 0.0439 - val_rmse 0.1588\n",
            "Epoch 4301 - loss 0.0000 - rmse 0.0022 - val_loss 0.0412 - val_rmse 0.1521\n",
            "Epoch 4401 - loss 0.0002 - rmse 0.0100 - val_loss 0.0418 - val_rmse 0.1557\n",
            "Epoch 4501 - loss 0.0000 - rmse 0.0032 - val_loss 0.0405 - val_rmse 0.1516\n",
            "Epoch 4601 - loss 0.0000 - rmse 0.0014 - val_loss 0.0407 - val_rmse 0.1521\n",
            "Epoch 4701 - loss 0.0000 - rmse 0.0039 - val_loss 0.0421 - val_rmse 0.1559\n",
            "Epoch 4801 - loss 0.0000 - rmse 0.0016 - val_loss 0.0410 - val_rmse 0.1526\n",
            "Epoch 4901 - loss 0.0000 - rmse 0.0010 - val_loss 0.0415 - val_rmse 0.1540\n"
          ],
          "name": "stdout"
        }
      ]
    },
    {
      "cell_type": "code",
      "metadata": {
        "id": "Q9xzkiBte8fl"
      },
      "source": [
        "x = prices[-64:]\n",
        "x = x.reshape(-1, 1)\n",
        "x = scaler.transform(x)\n",
        "x = np.array([x])"
      ],
      "execution_count": 20,
      "outputs": []
    },
    {
      "cell_type": "code",
      "metadata": {
        "colab": {
          "base_uri": "https://localhost:8080/"
        },
        "id": "9DFtohc_fTB0",
        "outputId": "9d1acfc9-597a-4201-c52d-87b20eb5fc4b"
      },
      "source": [
        "prices[-1]"
      ],
      "execution_count": 21,
      "outputs": [
        {
          "output_type": "execute_result",
          "data": {
            "text/plain": [
              "30.31999969482422"
            ]
          },
          "metadata": {
            "tags": []
          },
          "execution_count": 21
        }
      ]
    },
    {
      "cell_type": "code",
      "metadata": {
        "colab": {
          "base_uri": "https://localhost:8080/"
        },
        "id": "ytdMPLt2erHa",
        "outputId": "cfbd9f46-0ac1-4406-add8-42ce94b69fec"
      },
      "source": [
        "with tf.Session() as sess:\n",
        "  saver.restore(sess, './best_model.ckpt')\n",
        "\n",
        "  pred = sess.run(out_tensor, feed_dict={input_placeholder:x})\n",
        "  pred = scaler.inverse_transform(pred)\n",
        "  print(f'BBCA Next Day Closing Price: {pred}')"
      ],
      "execution_count": 22,
      "outputs": [
        {
          "output_type": "stream",
          "text": [
            "INFO:tensorflow:Restoring parameters from ./best_model.ckpt\n",
            "BBCA Next Day Closing Price: [[30.063845]]\n"
          ],
          "name": "stdout"
        }
      ]
    }
  ]
}